{
 "cells": [
  {
   "cell_type": "markdown",
   "metadata": {},
   "source": [
    "# Кодування категоріальних даних\n",
    "\n",
    "Категоріальні дані, як правило, не можуть безпосередньо оброблятися алгоритмами машинного навчання, оскільки більшість алгоритмів призначені для роботи лише з числовими даними. Тому, перш ніж використовувати категоріальні ознаки як вхідні дані для алгоритмів машинного навчання, їх потрібно закодувати у вигляді числових значень.\n",
    "\n",
    "Існує кілька методів кодування категоріальних ознак, зокрема one-hot encoding, ordinal encoding та target encoding. Вибір методу кодування залежить від конкретних характеристик даних і вимог алгоритму машинного навчання, що використовується.\n",
    "\n",
    "Існує багато різних методів кодування ознак. Деякі вчені виділяють до 15 різних методів кодування ознак:\n",
    "\n",
    "- One Hot Encoding\n",
    "- Label Encoding\n",
    "- Ordinal Encoding\n",
    "- Helmert Encoding\n",
    "- Binary Encoding\n",
    "- Frequency Encoding\n",
    "- Mean Encoding\n",
    "- Weight of Evidence Encoding\n",
    "- Probability Ratio Encoding\n",
    "- Hashing Encoding\n",
    "- Backward Difference Encoding\n",
    "- Leave One Out Encoding\n",
    "- James-Stein Encoding\n",
    "- M-estimator Encoding\n",
    "- Thermometer Encoder\n",
    "\n",
    "Для ретельного вибору методу кодування можна скористатися наступною діаграмою\n",
    "\n",
    "<div style=\"text-align: center;\">\n",
    "    <img src=\"assets/image_0001.png\" style=\"max-width:800px;width:100%\">\n",
    "</div>"
   ]
  },
  {
   "cell_type": "markdown",
   "metadata": {},
   "source": [
    "## Набір даних для демонстрації задачі кодування категоріальних даних\n",
    "\n",
    "Розгялянемо деякі найбільш популярні методи кодування категорійних ознак на прикладі простого набору даних."
   ]
  },
  {
   "cell_type": "code",
   "execution_count": 7,
   "metadata": {},
   "outputs": [
    {
     "name": "stdout",
     "output_type": "stream",
     "text": [
      "  Temperature   Color  Target\n",
      "0         Hot     Red       1\n",
      "1        Cold  Yellow       1\n",
      "2    Very Hot    Blue       1\n",
      "3        Warm    Blue       0\n",
      "4         Hot     Red       1\n",
      "5        Warm  Yellow       0\n",
      "6        Warm     Red       1\n",
      "7         Hot  Yellow       0\n",
      "8         Hot  Yellow       1\n",
      "9        Cold  Yellow       1\n"
     ]
    }
   ],
   "source": [
    "import pandas as pd\n",
    "import numpy as np\n",
    "\n",
    "data = {\n",
    "    'Temperature': ['Hot', 'Cold','Very Hot','Warm','Hot','Warm','Warm','Hot','Hot','Cold'],\n",
    "    'Color': ['Red','Yellow','Blue','Blue','Red','Yellow','Red','Yellow','Yellow','Yellow'],\n",
    "    'Target': [1,1,1,0,1,0,1,0,1,1]\n",
    "}\n",
    "dataset = pd.DataFrame(data, columns = ['Temperature','Color','Target'])\n",
    "\n",
    "print (dataset)"
   ]
  },
  {
   "cell_type": "markdown",
   "metadata": {},
   "source": [
    "## Кодування One Hot Encoding\n",
    "\n",
    "У цьому методі ми зіставляємо кожну категорію з вектором, що містить `1` і `0`, які позначають наявність або відсутність ознаки. Кількість векторів залежить від кількості категорій для ознак. Цей метод створює багато стовпців, що значно сповільнює навчання, якщо кількість категорій для ознаки дуже велика. У Pandas є функція `get_dummies()`, яка досить проста у використанні.\n",
    "\n",
    "<div style=\"text-align: center;\">\n",
    "    <img src=\"assets/image_0002.png\" style=\"max-width:800px;width:100%\">\n",
    "</div>"
   ]
  },
  {
   "cell_type": "code",
   "execution_count": 8,
   "metadata": {},
   "outputs": [
    {
     "name": "stdout",
     "output_type": "stream",
     "text": [
      "    Color  Target  Temp_Cold  Temp_Hot  Temp_Very Hot  Temp_Warm\n",
      "0     Red       1          0         1              0          0\n",
      "1  Yellow       1          1         0              0          0\n",
      "2    Blue       1          0         0              1          0\n",
      "3    Blue       0          0         0              0          1\n",
      "4     Red       1          0         1              0          0\n",
      "5  Yellow       0          0         0              0          1\n",
      "6     Red       1          0         0              0          1\n",
      "7  Yellow       0          0         1              0          0\n",
      "8  Yellow       1          0         1              0          0\n",
      "9  Yellow       1          1         0              0          0\n",
      "Color            object\n",
      "Target            int64\n",
      "Temp_Cold         int32\n",
      "Temp_Hot          int32\n",
      "Temp_Very Hot     int32\n",
      "Temp_Warm         int32\n",
      "dtype: object\n"
     ]
    }
   ],
   "source": [
    "import pandas as pd\n",
    "import numpy as np\n",
    "\n",
    "data = {\n",
    "    'Temperature': ['Hot', 'Cold','Very Hot','Warm','Hot','Warm','Warm','Hot','Hot','Cold'],\n",
    "    'Color': ['Red','Yellow','Blue','Blue','Red','Yellow','Red','Yellow','Yellow','Yellow'],\n",
    "    'Target': [1,1,1,0,1,0,1,0,1,1]\n",
    "}\n",
    "dataset = pd.DataFrame(data, columns = ['Temperature','Color','Target'])\n",
    "\n",
    "result = pd.get_dummies(dataset,prefix=['Temp'], columns=['Temperature'], dtype='int')\n",
    "\n",
    "print(result)\n",
    "print(result.dtypes)"
   ]
  },
  {
   "cell_type": "markdown",
   "metadata": {},
   "source": [
    "Дане кодування можно також виконати за допомогою класу `OneHotEncoder` із бібліотеки Scikit-learn, але цей клас не створює додаткових стовпчиків у наборі даних, тому їх треба додавати окремо вручну."
   ]
  },
  {
   "cell_type": "code",
   "execution_count": 9,
   "metadata": {},
   "outputs": [
    {
     "name": "stdout",
     "output_type": "stream",
     "text": [
      "[[0. 1. 0. 0.]\n",
      " [1. 0. 0. 0.]\n",
      " [0. 0. 1. 0.]\n",
      " [0. 0. 0. 1.]\n",
      " [0. 1. 0. 0.]\n",
      " [0. 0. 0. 1.]\n",
      " [0. 0. 0. 1.]\n",
      " [0. 1. 0. 0.]\n",
      " [0. 1. 0. 0.]\n",
      " [1. 0. 0. 0.]]\n",
      "  Temperature   Color  Target  Temp_Cold  Temp_Hot  Temp_Very Hot  Temp_Warm\n",
      "0         Hot     Red       1        0.0       1.0            0.0        0.0\n",
      "1        Cold  Yellow       1        1.0       0.0            0.0        0.0\n",
      "2    Very Hot    Blue       1        0.0       0.0            1.0        0.0\n",
      "3        Warm    Blue       0        0.0       0.0            0.0        1.0\n",
      "4         Hot     Red       1        0.0       1.0            0.0        0.0\n",
      "5        Warm  Yellow       0        0.0       0.0            0.0        1.0\n",
      "6        Warm     Red       1        0.0       0.0            0.0        1.0\n",
      "7         Hot  Yellow       0        0.0       1.0            0.0        0.0\n",
      "8         Hot  Yellow       1        0.0       1.0            0.0        0.0\n",
      "9        Cold  Yellow       1        1.0       0.0            0.0        0.0\n"
     ]
    }
   ],
   "source": [
    "import pandas as pd\n",
    "import numpy as np\n",
    "from sklearn.preprocessing import OneHotEncoder\n",
    "\n",
    "data = {\n",
    "    'Temperature': ['Hot', 'Cold','Very Hot','Warm','Hot','Warm','Warm','Hot','Hot','Cold'],\n",
    "    'Color': ['Red','Yellow','Blue','Blue','Red','Yellow','Red','Yellow','Yellow','Yellow'],\n",
    "    'Target': [1,1,1,0,1,0,1,0,1,1]\n",
    "}\n",
    "dataset = pd.DataFrame(data, columns = ['Temperature','Color','Target'])\n",
    "\n",
    "encoder = OneHotEncoder()\n",
    "result = encoder.fit_transform(dataset.Temperature.values.reshape(-1,1)).toarray()\n",
    "df_result = pd.DataFrame(result,columns = [\"Temp_\" + str(encoder.categories_[0][i]) for i in range (len(encoder.categories_[0]))])\n",
    "\n",
    "print(result)\n",
    "\n",
    "new_dataset = pd.concat([dataset,df_result], axis=1)\n",
    "print(new_dataset)"
   ]
  },
  {
   "cell_type": "markdown",
   "metadata": {},
   "source": [
    "One Hot Encoding є дуже популярним методом кодування. Ми можемо представити всі категорії за допомогою `N-1` (`N` = номер категорії), що є достатнім для кодування тієї категорії, яка не включена. Зазвичай, для регресії ми використовуємо `N-1` (опускаємо перший або останній стовпчик ноовї One Hot Coded ознаки). Проте, для класифікації рекомендується використовувати всі N стовпців, оскільки більшість алгоритмів на основі дерева будують дерево на основі всіх доступних змінних.\n",
    "\n",
    "У лінійній регресії слід використовувати One Hot Encoding з `N-1` двійковими змінними, щоб забезпечити правильну кількість ступенів свободи (`N-1`). Лінійна регресія має доступ до всіх ознак, оскільки вона навчається, і тому досліджує весь набір фіктивних змінних разом. Це означає, що `N-1` бінарних змінних дають повну інформацію (повністю представляють) вихідну категоріальну змінну для лінійної регресії. Цей підхід може бути прийнятий для будь-якого алгоритму машинного навчання, який розглядає ВСІ ознаки одночасно під час навчання - наприклад, машини опорних векторів і нейронні мережі, а також алгоритми кластеризації.\n",
    "\n",
    "Ми ніколи не будемо враховувати цю додаткову мітку в методах, заснованих на деревах, якщо відкинемо її. Таким чином, якщо ми використовуємо категоріальні змінні в алгоритмі навчання на основі дерева, найкраще кодувати їх у `N` двійкових змінних і не відкидати."
   ]
  },
  {
   "cell_type": "markdown",
   "metadata": {},
   "source": [
    "## Label Encoding\n",
    "\n",
    "У цьому кодуванні кожній категорії присвоюється значення від `1` до `N` (де `N` - кількість категорій для ознаки). Однією з головних проблем такого підходу є те, що між цими класами немає зв'язку або порядку, але алгоритм може розглядати їх як певний порядок або певний зв'язок. У наведеному нижче прикладі це може виглядати так (Холодний<Гарячий<Дуже гарячий<Теплий, тобто 0 < 1 < 2 < 3 )"
   ]
  },
  {
   "cell_type": "code",
   "execution_count": 10,
   "metadata": {},
   "outputs": [
    {
     "name": "stdout",
     "output_type": "stream",
     "text": [
      "  Temperature   Color  Target  Temp_label_encoded\n",
      "0         Hot     Red       1                   1\n",
      "1        Cold  Yellow       1                   0\n",
      "2    Very Hot    Blue       1                   2\n",
      "3        Warm    Blue       0                   3\n",
      "4         Hot     Red       1                   1\n",
      "5        Warm  Yellow       0                   3\n",
      "6        Warm     Red       1                   3\n",
      "7         Hot  Yellow       0                   1\n",
      "8         Hot  Yellow       1                   1\n",
      "9        Cold  Yellow       1                   0\n"
     ]
    }
   ],
   "source": [
    "import pandas as pd\n",
    "import numpy as np\n",
    "from sklearn.preprocessing import LabelEncoder\n",
    "\n",
    "data = {\n",
    "    'Temperature': ['Hot', 'Cold','Very Hot','Warm','Hot','Warm','Warm','Hot','Hot','Cold'],\n",
    "    'Color': ['Red','Yellow','Blue','Blue','Red','Yellow','Red','Yellow','Yellow','Yellow'],\n",
    "    'Target': [1,1,1,0,1,0,1,0,1,1]\n",
    "}\n",
    "dataset = pd.DataFrame(data, columns = ['Temperature','Color','Target'])\n",
    "\n",
    "encoder = LabelEncoder()\n",
    "\n",
    "dataset['Temp_label_encoded'] = LabelEncoder().fit_transform(dataset.Temperature)\n",
    "\n",
    "print(dataset)"
   ]
  },
  {
   "cell_type": "markdown",
   "metadata": {},
   "source": [
    "Функція `factorize()` з бібліотеки Pandas виконує таку ж роль"
   ]
  },
  {
   "cell_type": "code",
   "execution_count": 11,
   "metadata": {},
   "outputs": [
    {
     "name": "stdout",
     "output_type": "stream",
     "text": [
      "  Temperature   Color  Target  Temp_factorize_encode\n",
      "0         Hot     Red       1                      0\n",
      "1        Cold  Yellow       1                      1\n",
      "2    Very Hot    Blue       1                      2\n",
      "3        Warm    Blue       0                      3\n",
      "4         Hot     Red       1                      0\n",
      "5        Warm  Yellow       0                      3\n",
      "6        Warm     Red       1                      3\n",
      "7         Hot  Yellow       0                      0\n",
      "8         Hot  Yellow       1                      0\n",
      "9        Cold  Yellow       1                      1\n"
     ]
    }
   ],
   "source": [
    "import pandas as pd\n",
    "import numpy as np\n",
    "\n",
    "data = {\n",
    "    'Temperature': ['Hot', 'Cold','Very Hot','Warm','Hot','Warm','Warm','Hot','Hot','Cold'],\n",
    "    'Color': ['Red','Yellow','Blue','Blue','Red','Yellow','Red','Yellow','Yellow','Yellow'],\n",
    "    'Target': [1,1,1,0,1,0,1,0,1,1]\n",
    "}\n",
    "dataset = pd.DataFrame(data, columns = ['Temperature','Color','Target'])\n",
    "\n",
    "encoder = LabelEncoder()\n",
    "\n",
    "dataset.loc[:,'Temp_factorize_encode'] = pd.factorize(dataset['Temperature'])[0].reshape(-1,1)\n",
    "\n",
    "print(dataset)"
   ]
  },
  {
   "cell_type": "markdown",
   "metadata": {},
   "source": [
    "Метод `LabelEncoding` треба використовувати з обережністю, тому що цей метод присвоює унікальний номер (починаючи з `0`) кожному класу даних. Це може призвести до виникнення проблем з пріоритетами під час навчання моделі на наборах даних. Мітка з більшим значенням може вважатися більш пріоритетною, ніж мітка з меншим значенням.\n",
    "\n",
    "Наприклад, уявімо собі, що в даних існує ознака зі значеннями `Mexico`, `Paris`, `Dubai`. При кодуванні міток у цьому стовпчику `Mexico` замінюється на `0`, `Paris` - на `1`, а `Dubai` - на `2`. Це може бути інтерпретовано як те, що `Dubai` має вищий пріоритет, ніж `Mexico` та `Paris`, під час навчання моделі, але насправді такого співвідношення пріоритетів між цими містами не існує.\n",
    "\n",
    "Алгоритми машинного навчання на базі дерев рішень працюють з методом `LabelEncoding` без проблем, тоді як алгоритми машинного навчання, які припускають лінійну залежність (наприклад, лінійна регресія) є дуже чуттєвими до використання методу `LabelEncoding`.\n",
    "\n",
    "Великою перевагою методу `LabelEncoding` є те, що для кодування категоріальних ознак використовується лише один стовпчик, що дозволяє зменшити витрати пам'яті та прискорити роботу алгоритмів машинного навчання. Також, цей метод можна використовувати у випадку, коли категоріальна ознака має лише два варіанти (`Так\\Ні`, `Вірно\\Невірно` тощо).\n",
    "\n",
    "Крім того, оскільки `Label Encoding` присвоює довільні числові значення категоріям, ці значення можуть мати дуже різний масштаб, що вимагатиме додаткової нормалізації даних перед використанням у моделях машинного навчання.\n",
    "\n",
    "Якщо категоріальні дані мають порядковий характер, то можна використати варіант Label Encoding під назвою Ordinal Encoding, про який буде йти мова нижче."
   ]
  },
  {
   "cell_type": "markdown",
   "metadata": {},
   "source": [
    "## Ordinal Encoding\n",
    "\n",
    "Ordinal Encoding - це метод кодування категоріальних змінних, за якого кожній унікальній категорії присвоюється ціле число відповідно до їхнього порядку. Цей метод особливо корисний, коли категорії можуть бути впорядковані або ранжовані за значимістю.\n",
    "\n",
    "Даний метод слід використовувати, коли категоріальні дані мають порядковий характер."
   ]
  },
  {
   "cell_type": "code",
   "execution_count": 12,
   "metadata": {},
   "outputs": [
    {
     "name": "stdout",
     "output_type": "stream",
     "text": [
      "  Temperature   Color  Target  Temp_encoded\n",
      "0         Hot     Red       1           2.0\n",
      "1        Cold  Yellow       1           0.0\n",
      "2    Very Hot    Blue       1           3.0\n",
      "3        Warm    Blue       0           1.0\n",
      "4         Hot     Red       1           2.0\n",
      "5        Warm  Yellow       0           1.0\n",
      "6        Warm     Red       1           1.0\n",
      "7         Hot  Yellow       0           2.0\n",
      "8         Hot  Yellow       1           2.0\n",
      "9        Cold  Yellow       1           0.0\n"
     ]
    }
   ],
   "source": [
    "import pandas as pd\n",
    "import numpy as np\n",
    "from sklearn.preprocessing import OrdinalEncoder\n",
    "\n",
    "data = {\n",
    "    'Temperature': ['Hot', 'Cold','Very Hot','Warm','Hot','Warm','Warm','Hot','Hot','Cold'],\n",
    "    'Color': ['Red','Yellow','Blue','Blue','Red','Yellow','Red','Yellow','Yellow','Yellow'],\n",
    "    'Target': [1,1,1,0,1,0,1,0,1,1]\n",
    "}\n",
    "dataset = pd.DataFrame(data, columns = ['Temperature','Color','Target'])\n",
    "\n",
    "encoder = OrdinalEncoder(categories = [['Cold','Warm','Hot','Very Hot']])\n",
    "\n",
    "dataset['Temp_encoded'] = encoder.fit_transform(dataset[['Temperature']])\n",
    "\n",
    "print(dataset)"
   ]
  },
  {
   "cell_type": "markdown",
   "metadata": {},
   "source": [
    "Такий же функціонал можна реалізувати за допомогою функції `map()`, який викликається для об'єкта `DataFrame`:"
   ]
  },
  {
   "cell_type": "code",
   "execution_count": 13,
   "metadata": {},
   "outputs": [
    {
     "name": "stdout",
     "output_type": "stream",
     "text": [
      "  Temperature   Color  Target  Temp_encoded\n",
      "0         Hot     Red       1             3\n",
      "1        Cold  Yellow       1             1\n",
      "2    Very Hot    Blue       1             4\n",
      "3        Warm    Blue       0             2\n",
      "4         Hot     Red       1             3\n",
      "5        Warm  Yellow       0             2\n",
      "6        Warm     Red       1             2\n",
      "7         Hot  Yellow       0             3\n",
      "8         Hot  Yellow       1             3\n",
      "9        Cold  Yellow       1             1\n"
     ]
    }
   ],
   "source": [
    "import pandas as pd\n",
    "import numpy as np\n",
    "\n",
    "data = {\n",
    "    'Temperature': ['Hot', 'Cold','Very Hot','Warm','Hot','Warm','Warm','Hot','Hot','Cold'],\n",
    "    'Color': ['Red','Yellow','Blue','Blue','Red','Yellow','Red','Yellow','Yellow','Yellow'],\n",
    "    'Target': [1,1,1,0,1,0,1,0,1,1]\n",
    "}\n",
    "dataset = pd.DataFrame(data, columns = ['Temperature','Color','Target'])\n",
    "\n",
    "dict = {\n",
    "    'Cold': 1,\n",
    "    'Warm': 2,\n",
    "    'Hot': 3,\n",
    "    'Very Hot': 4\n",
    "    }\n",
    "\n",
    "dataset['Temp_encoded'] = dataset.Temperature.map(dict)\n",
    "\n",
    "print(dataset)"
   ]
  }
 ],
 "metadata": {
  "kernelspec": {
   "display_name": "base",
   "language": "python",
   "name": "python3"
  },
  "language_info": {
   "codemirror_mode": {
    "name": "ipython",
    "version": 3
   },
   "file_extension": ".py",
   "mimetype": "text/x-python",
   "name": "python",
   "nbconvert_exporter": "python",
   "pygments_lexer": "ipython3",
   "version": "3.9.13"
  }
 },
 "nbformat": 4,
 "nbformat_minor": 2
}
