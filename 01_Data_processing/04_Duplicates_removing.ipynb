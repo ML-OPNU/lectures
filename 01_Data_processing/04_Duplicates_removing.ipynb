{
 "cells": [
  {
   "cell_type": "markdown",
   "metadata": {},
   "source": [
    "# Видалення дублікатів\n",
    "\n",
    "Видалення дублікатів - це процес ідентифікації та вилучення повторюваних записів у наборі даних. Це критично важливий крок у підготовці даних, оскільки дублікати можуть спотворювати результати аналізу та впливати на ефективність та точність моделей машинного навчання.\n",
    "\n",
    "Розглянемо приклад видалення дублікатів за допомогою бібліотеки Pandas:"
   ]
  },
  {
   "cell_type": "code",
   "execution_count": 1,
   "metadata": {},
   "outputs": [
    {
     "name": "stdout",
     "output_type": "stream",
     "text": [
      "Оригінальний набір даних:\n",
      "   Name  Age      City\n",
      "0  John   28  New York\n",
      "1  Anna   22     Paris\n",
      "2  John   28  New York\n",
      "3  Mike   32    Boston\n",
      "\n",
      "Набір даних після видалення дублікатів:\n",
      "   Name  Age      City\n",
      "0  John   28  New York\n",
      "1  Anna   22     Paris\n",
      "3  Mike   32    Boston\n"
     ]
    }
   ],
   "source": [
    "import pandas as pd\n",
    "\n",
    "# Створення DataFrame\n",
    "data = {'Name': ['John', 'Anna', 'John', 'Mike'],\n",
    "        'Age': [28, 22, 28, 32],\n",
    "        'City': ['New York', 'Paris', 'New York', 'Boston']}\n",
    "df = pd.DataFrame(data)\n",
    "\n",
    "print(\"Оригінальний набір даних:\")\n",
    "print(df)\n",
    "\n",
    "# Видалення дублікатів\n",
    "df_unique = df.drop_duplicates()\n",
    "\n",
    "print(\"\\nНабір даних після видалення дублікатів:\")\n",
    "print(df_unique)"
   ]
  },
  {
   "cell_type": "markdown",
   "metadata": {},
   "source": [
    "Видалення даних треба здійснювати перед розділенням даних на навчальну та тестову вибірки, для запобігання витоку інформації.\n",
    "\n",
    "Застосування видалення дублікатів залежить від контексту дослідження та специфіки даних. В деяких випадках дублікати можуть відображати важливі, повторювані спостереження в наборі даних. Також, іноді буває так, що кожен запис відповідає унікальній події або спостереженню, навіть якщо деякі поля даних співпадають."
   ]
  }
 ],
 "metadata": {
  "kernelspec": {
   "display_name": "base",
   "language": "python",
   "name": "python3"
  },
  "language_info": {
   "codemirror_mode": {
    "name": "ipython",
    "version": 3
   },
   "file_extension": ".py",
   "mimetype": "text/x-python",
   "name": "python",
   "nbconvert_exporter": "python",
   "pygments_lexer": "ipython3",
   "version": "3.9.13"
  }
 },
 "nbformat": 4,
 "nbformat_minor": 2
}
